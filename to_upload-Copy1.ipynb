{
 "cells": [
  {
   "cell_type": "code",
   "execution_count": 1,
   "id": "e4e5871c",
   "metadata": {
    "deletable": false,
    "editable": false
   },
   "outputs": [
    {
     "ename": "ModuleNotFoundError",
     "evalue": "No module named 'otter'",
     "output_type": "error",
     "traceback": [
      "\u001b[0;31m---------------------------------------------------------------------------\u001b[0m",
      "\u001b[0;31mModuleNotFoundError\u001b[0m                       Traceback (most recent call last)",
      "\u001b[0;32m/tmp/ipykernel_32718/771859059.py\u001b[0m in \u001b[0;36m<module>\u001b[0;34m\u001b[0m\n\u001b[1;32m      1\u001b[0m \u001b[0;31m# Initialize Otter\u001b[0m\u001b[0;34m\u001b[0m\u001b[0;34m\u001b[0m\u001b[0m\n\u001b[0;32m----> 2\u001b[0;31m \u001b[0;32mimport\u001b[0m \u001b[0motter\u001b[0m\u001b[0;34m\u001b[0m\u001b[0;34m\u001b[0m\u001b[0m\n\u001b[0m\u001b[1;32m      3\u001b[0m \u001b[0mgrader\u001b[0m \u001b[0;34m=\u001b[0m \u001b[0motter\u001b[0m\u001b[0;34m.\u001b[0m\u001b[0mNotebook\u001b[0m\u001b[0;34m(\u001b[0m\u001b[0;34m\"02-exercise-pids2023.ipynb\"\u001b[0m\u001b[0;34m)\u001b[0m\u001b[0;34m\u001b[0m\u001b[0;34m\u001b[0m\u001b[0m\n",
      "\u001b[0;31mModuleNotFoundError\u001b[0m: No module named 'otter'"
     ]
    }
   ],
   "source": [
    "# Initialize Otter\n",
    "import otter\n",
    "grader = otter.Notebook(\"02-exercise-pids2023.ipynb\")"
   ]
  },
  {
   "cell_type": "code",
   "execution_count": 2,
   "id": "876e413c",
   "metadata": {},
   "outputs": [
    {
     "ename": "ModuleNotFoundError",
     "evalue": "No module named 'nose'",
     "output_type": "error",
     "traceback": [
      "\u001b[0;31m---------------------------------------------------------------------------\u001b[0m",
      "\u001b[0;31mModuleNotFoundError\u001b[0m                       Traceback (most recent call last)",
      "\u001b[0;32m/tmp/ipykernel_32718/141562284.py\u001b[0m in \u001b[0;36m<module>\u001b[0;34m\u001b[0m\n\u001b[1;32m      1\u001b[0m \u001b[0;32mimport\u001b[0m \u001b[0mnumpy\u001b[0m \u001b[0;32mas\u001b[0m \u001b[0mnp\u001b[0m\u001b[0;34m\u001b[0m\u001b[0;34m\u001b[0m\u001b[0m\n\u001b[1;32m      2\u001b[0m \u001b[0;32mfrom\u001b[0m \u001b[0mpandas\u001b[0m \u001b[0;32mimport\u001b[0m \u001b[0mDataFrame\u001b[0m \u001b[0;32mas\u001b[0m \u001b[0mdf\u001b[0m\u001b[0;34m\u001b[0m\u001b[0;34m\u001b[0m\u001b[0m\n\u001b[0;32m----> 3\u001b[0;31m \u001b[0;32mfrom\u001b[0m \u001b[0mnose\u001b[0m\u001b[0;34m.\u001b[0m\u001b[0mtools\u001b[0m \u001b[0;32mimport\u001b[0m \u001b[0massert_is_instance\u001b[0m\u001b[0;34m,\u001b[0m \u001b[0massert_equal\u001b[0m\u001b[0;34m,\u001b[0m \u001b[0massert_almost_equal\u001b[0m\u001b[0;34m,\u001b[0m \u001b[0massert_true\u001b[0m\u001b[0;34m\u001b[0m\u001b[0;34m\u001b[0m\u001b[0m\n\u001b[0m\u001b[1;32m      4\u001b[0m \u001b[0;32mimport\u001b[0m \u001b[0motter\u001b[0m\u001b[0;34m\u001b[0m\u001b[0;34m\u001b[0m\u001b[0m\n\u001b[1;32m      5\u001b[0m \u001b[0mgrader\u001b[0m \u001b[0;34m=\u001b[0m \u001b[0motter\u001b[0m\u001b[0;34m.\u001b[0m\u001b[0mNotebook\u001b[0m\u001b[0;34m(\u001b[0m\u001b[0;34m)\u001b[0m\u001b[0;34m\u001b[0m\u001b[0;34m\u001b[0m\u001b[0m\n",
      "\u001b[0;31mModuleNotFoundError\u001b[0m: No module named 'nose'"
     ]
    }
   ],
   "source": [
    "import numpy as np\n",
    "from pandas import DataFrame as df\n",
    "from nose.tools import assert_is_instance, assert_equal, assert_almost_equal, assert_true\n",
    "import otter\n",
    "grader = otter.Notebook()"
   ]
  },
  {
   "cell_type": "markdown",
   "id": "9b0fe286",
   "metadata": {},
   "source": [
    "# Exercise sheet 2\n",
    "**Hello everyone!**\n",
    "\n",
    "This is the first graded exercise sheet. <br>\n",
    "**Points: 15 **\n",
    "\n",
    "Topics of this exercise sheet are:\n",
    "* Work with Jupyter\n",
    "* See autograding\n",
    "* Lecture 2: Tidy data, pandas\n",
    "\n",
    "Please let us know if you have questions or problems! <br>\n",
    "Contact us during the exercise session, on [ADAM](https://adam.unibas.ch/goto_adam_crs_1266890.html), [Piazza](https://piazza.com/unibas.ch/spring2023/63982), or [via email](https://sada.dmi.unibas.ch/en/teaching/pids23).\n",
    "\n",
    "Your notebook will be automatically graded using gradescope. Before the exercise session, you should have received an email saying that you were registered to a course in gradescope. If this is not the case, please contact us.\n",
    "\n",
    "The sheet is released before the exercise session on Tuesday. You have until the next exercise session on Tuesday to submit this sheet. Most of the questions of the exercise sheet can be handle during the session.\n",
    "\n",
    "**Handout date**: 2023/03/7 <br>\n",
    "**Submission date**: 2023/03/14 (before 4pm)<br>\n",
    "**Discussion date**: 2023/03/14"
   ]
  },
  {
   "cell_type": "markdown",
   "id": "ff9a0ea9",
   "metadata": {},
   "source": [
    "## 1 - Tidy data (9 points)\n",
    "\n",
    "### A (2 points)\n",
    "We will use data published by the [World Bank](https://data.worldbank.org/indicator/SP.POP.TOTL) about population in countries."
   ]
  },
  {
   "cell_type": "code",
   "execution_count": 3,
   "id": "f90b39d4",
   "metadata": {},
   "outputs": [
    {
     "data": {
      "text/html": [
       "<div>\n",
       "<style scoped>\n",
       "    .dataframe tbody tr th:only-of-type {\n",
       "        vertical-align: middle;\n",
       "    }\n",
       "\n",
       "    .dataframe tbody tr th {\n",
       "        vertical-align: top;\n",
       "    }\n",
       "\n",
       "    .dataframe thead th {\n",
       "        text-align: right;\n",
       "    }\n",
       "</style>\n",
       "<table border=\"1\" class=\"dataframe\">\n",
       "  <thead>\n",
       "    <tr style=\"text-align: right;\">\n",
       "      <th></th>\n",
       "      <th>Country Name</th>\n",
       "      <th>Country Code</th>\n",
       "      <th>Indicator Name</th>\n",
       "      <th>Indicator Code</th>\n",
       "      <th>1960</th>\n",
       "      <th>1961</th>\n",
       "      <th>1962</th>\n",
       "      <th>1963</th>\n",
       "      <th>1964</th>\n",
       "      <th>1965</th>\n",
       "      <th>...</th>\n",
       "      <th>2011</th>\n",
       "      <th>2012</th>\n",
       "      <th>2013</th>\n",
       "      <th>2014</th>\n",
       "      <th>2015</th>\n",
       "      <th>2016</th>\n",
       "      <th>2017</th>\n",
       "      <th>2018</th>\n",
       "      <th>2019</th>\n",
       "      <th>2020</th>\n",
       "    </tr>\n",
       "  </thead>\n",
       "  <tbody>\n",
       "    <tr>\n",
       "      <th>0</th>\n",
       "      <td>Aruba</td>\n",
       "      <td>ABW</td>\n",
       "      <td>Population, total</td>\n",
       "      <td>SP.POP.TOTL</td>\n",
       "      <td>54208.0</td>\n",
       "      <td>55434.0</td>\n",
       "      <td>56234.0</td>\n",
       "      <td>56699.0</td>\n",
       "      <td>57029.0</td>\n",
       "      <td>57357.0</td>\n",
       "      <td>...</td>\n",
       "      <td>102050.0</td>\n",
       "      <td>102565.0</td>\n",
       "      <td>103165.0</td>\n",
       "      <td>103776.0</td>\n",
       "      <td>104339.0</td>\n",
       "      <td>104865.0</td>\n",
       "      <td>105361.0</td>\n",
       "      <td>105846.0</td>\n",
       "      <td>106310.0</td>\n",
       "      <td>106766.0</td>\n",
       "    </tr>\n",
       "    <tr>\n",
       "      <th>1</th>\n",
       "      <td>Africa Eastern and Southern</td>\n",
       "      <td>AFE</td>\n",
       "      <td>Population, total</td>\n",
       "      <td>SP.POP.TOTL</td>\n",
       "      <td>130836765.0</td>\n",
       "      <td>134159786.0</td>\n",
       "      <td>137614644.0</td>\n",
       "      <td>141202036.0</td>\n",
       "      <td>144920186.0</td>\n",
       "      <td>148769974.0</td>\n",
       "      <td>...</td>\n",
       "      <td>532760424.0</td>\n",
       "      <td>547482863.0</td>\n",
       "      <td>562601578.0</td>\n",
       "      <td>578075373.0</td>\n",
       "      <td>593871847.0</td>\n",
       "      <td>609978946.0</td>\n",
       "      <td>626392880.0</td>\n",
       "      <td>643090131.0</td>\n",
       "      <td>660046272.0</td>\n",
       "      <td>677243299.0</td>\n",
       "    </tr>\n",
       "    <tr>\n",
       "      <th>2</th>\n",
       "      <td>Afghanistan</td>\n",
       "      <td>AFG</td>\n",
       "      <td>Population, total</td>\n",
       "      <td>SP.POP.TOTL</td>\n",
       "      <td>8996967.0</td>\n",
       "      <td>9169406.0</td>\n",
       "      <td>9351442.0</td>\n",
       "      <td>9543200.0</td>\n",
       "      <td>9744772.0</td>\n",
       "      <td>9956318.0</td>\n",
       "      <td>...</td>\n",
       "      <td>30117411.0</td>\n",
       "      <td>31161378.0</td>\n",
       "      <td>32269592.0</td>\n",
       "      <td>33370804.0</td>\n",
       "      <td>34413603.0</td>\n",
       "      <td>35383028.0</td>\n",
       "      <td>36296111.0</td>\n",
       "      <td>37171922.0</td>\n",
       "      <td>38041757.0</td>\n",
       "      <td>38928341.0</td>\n",
       "    </tr>\n",
       "    <tr>\n",
       "      <th>3</th>\n",
       "      <td>Africa Western and Central</td>\n",
       "      <td>AFW</td>\n",
       "      <td>Population, total</td>\n",
       "      <td>SP.POP.TOTL</td>\n",
       "      <td>96396419.0</td>\n",
       "      <td>98407221.0</td>\n",
       "      <td>100506960.0</td>\n",
       "      <td>102691339.0</td>\n",
       "      <td>104953470.0</td>\n",
       "      <td>107289875.0</td>\n",
       "      <td>...</td>\n",
       "      <td>360285439.0</td>\n",
       "      <td>370243017.0</td>\n",
       "      <td>380437896.0</td>\n",
       "      <td>390882979.0</td>\n",
       "      <td>401586651.0</td>\n",
       "      <td>412551299.0</td>\n",
       "      <td>423769930.0</td>\n",
       "      <td>435229381.0</td>\n",
       "      <td>446911598.0</td>\n",
       "      <td>458803476.0</td>\n",
       "    </tr>\n",
       "    <tr>\n",
       "      <th>4</th>\n",
       "      <td>Angola</td>\n",
       "      <td>AGO</td>\n",
       "      <td>Population, total</td>\n",
       "      <td>SP.POP.TOTL</td>\n",
       "      <td>5454938.0</td>\n",
       "      <td>5531451.0</td>\n",
       "      <td>5608499.0</td>\n",
       "      <td>5679409.0</td>\n",
       "      <td>5734995.0</td>\n",
       "      <td>5770573.0</td>\n",
       "      <td>...</td>\n",
       "      <td>24220660.0</td>\n",
       "      <td>25107925.0</td>\n",
       "      <td>26015786.0</td>\n",
       "      <td>26941773.0</td>\n",
       "      <td>27884380.0</td>\n",
       "      <td>28842482.0</td>\n",
       "      <td>29816769.0</td>\n",
       "      <td>30809787.0</td>\n",
       "      <td>31825299.0</td>\n",
       "      <td>32866268.0</td>\n",
       "    </tr>\n",
       "  </tbody>\n",
       "</table>\n",
       "<p>5 rows × 65 columns</p>\n",
       "</div>"
      ],
      "text/plain": [
       "                  Country Name Country Code     Indicator Name Indicator Code  \\\n",
       "0                        Aruba          ABW  Population, total    SP.POP.TOTL   \n",
       "1  Africa Eastern and Southern          AFE  Population, total    SP.POP.TOTL   \n",
       "2                  Afghanistan          AFG  Population, total    SP.POP.TOTL   \n",
       "3   Africa Western and Central          AFW  Population, total    SP.POP.TOTL   \n",
       "4                       Angola          AGO  Population, total    SP.POP.TOTL   \n",
       "\n",
       "          1960         1961         1962         1963         1964  \\\n",
       "0      54208.0      55434.0      56234.0      56699.0      57029.0   \n",
       "1  130836765.0  134159786.0  137614644.0  141202036.0  144920186.0   \n",
       "2    8996967.0    9169406.0    9351442.0    9543200.0    9744772.0   \n",
       "3   96396419.0   98407221.0  100506960.0  102691339.0  104953470.0   \n",
       "4    5454938.0    5531451.0    5608499.0    5679409.0    5734995.0   \n",
       "\n",
       "          1965  ...         2011         2012         2013         2014  \\\n",
       "0      57357.0  ...     102050.0     102565.0     103165.0     103776.0   \n",
       "1  148769974.0  ...  532760424.0  547482863.0  562601578.0  578075373.0   \n",
       "2    9956318.0  ...   30117411.0   31161378.0   32269592.0   33370804.0   \n",
       "3  107289875.0  ...  360285439.0  370243017.0  380437896.0  390882979.0   \n",
       "4    5770573.0  ...   24220660.0   25107925.0   26015786.0   26941773.0   \n",
       "\n",
       "          2015         2016         2017         2018         2019  \\\n",
       "0     104339.0     104865.0     105361.0     105846.0     106310.0   \n",
       "1  593871847.0  609978946.0  626392880.0  643090131.0  660046272.0   \n",
       "2   34413603.0   35383028.0   36296111.0   37171922.0   38041757.0   \n",
       "3  401586651.0  412551299.0  423769930.0  435229381.0  446911598.0   \n",
       "4   27884380.0   28842482.0   29816769.0   30809787.0   31825299.0   \n",
       "\n",
       "          2020  \n",
       "0     106766.0  \n",
       "1  677243299.0  \n",
       "2   38928341.0  \n",
       "3  458803476.0  \n",
       "4   32866268.0  \n",
       "\n",
       "[5 rows x 65 columns]"
      ]
     },
     "execution_count": 3,
     "metadata": {},
     "output_type": "execute_result"
    }
   ],
   "source": [
    "import pandas as pd\n",
    "\n",
    "population = pd.read_csv(\"population_data.csv\", skiprows=3).dropna(how='all', axis=1)\n",
    "population.head()"
   ]
  },
  {
   "cell_type": "markdown",
   "id": "6837b280",
   "metadata": {},
   "source": [
    "**Question 1**:\n",
    "Manipulate the dataframe \"population\" to be tidy. Currently, column headers are values, not variable names.\n",
    "\n",
    "* Make a new dataframe \"population_melted\" that contains the same data as \"population\", but\n",
    "    * it has a new column \"Year\" containing the year of the observation\n",
    "    * it has a new column \"Population\" containing the number of inhabitants of the country in this year\n",
    "    * otherwise, it has exactly the same columns and data as \"population\"\n",
    "*Hint*: you can use 'pd.melt'."
   ]
  },
  {
   "cell_type": "code",
   "execution_count": 4,
   "id": "11ae136a",
   "metadata": {},
   "outputs": [
    {
     "data": {
      "text/html": [
       "<div>\n",
       "<style scoped>\n",
       "    .dataframe tbody tr th:only-of-type {\n",
       "        vertical-align: middle;\n",
       "    }\n",
       "\n",
       "    .dataframe tbody tr th {\n",
       "        vertical-align: top;\n",
       "    }\n",
       "\n",
       "    .dataframe thead th {\n",
       "        text-align: right;\n",
       "    }\n",
       "</style>\n",
       "<table border=\"1\" class=\"dataframe\">\n",
       "  <thead>\n",
       "    <tr style=\"text-align: right;\">\n",
       "      <th></th>\n",
       "      <th>Country Name</th>\n",
       "      <th>Country Code</th>\n",
       "      <th>Indicator Name</th>\n",
       "      <th>Indicator Code</th>\n",
       "      <th>Year</th>\n",
       "      <th>Population</th>\n",
       "    </tr>\n",
       "  </thead>\n",
       "  <tbody>\n",
       "    <tr>\n",
       "      <th>0</th>\n",
       "      <td>Aruba</td>\n",
       "      <td>ABW</td>\n",
       "      <td>Population, total</td>\n",
       "      <td>SP.POP.TOTL</td>\n",
       "      <td>1960</td>\n",
       "      <td>54208.0</td>\n",
       "    </tr>\n",
       "    <tr>\n",
       "      <th>1</th>\n",
       "      <td>Africa Eastern and Southern</td>\n",
       "      <td>AFE</td>\n",
       "      <td>Population, total</td>\n",
       "      <td>SP.POP.TOTL</td>\n",
       "      <td>1960</td>\n",
       "      <td>130836765.0</td>\n",
       "    </tr>\n",
       "    <tr>\n",
       "      <th>2</th>\n",
       "      <td>Afghanistan</td>\n",
       "      <td>AFG</td>\n",
       "      <td>Population, total</td>\n",
       "      <td>SP.POP.TOTL</td>\n",
       "      <td>1960</td>\n",
       "      <td>8996967.0</td>\n",
       "    </tr>\n",
       "    <tr>\n",
       "      <th>3</th>\n",
       "      <td>Africa Western and Central</td>\n",
       "      <td>AFW</td>\n",
       "      <td>Population, total</td>\n",
       "      <td>SP.POP.TOTL</td>\n",
       "      <td>1960</td>\n",
       "      <td>96396419.0</td>\n",
       "    </tr>\n",
       "    <tr>\n",
       "      <th>4</th>\n",
       "      <td>Angola</td>\n",
       "      <td>AGO</td>\n",
       "      <td>Population, total</td>\n",
       "      <td>SP.POP.TOTL</td>\n",
       "      <td>1960</td>\n",
       "      <td>5454938.0</td>\n",
       "    </tr>\n",
       "    <tr>\n",
       "      <th>...</th>\n",
       "      <td>...</td>\n",
       "      <td>...</td>\n",
       "      <td>...</td>\n",
       "      <td>...</td>\n",
       "      <td>...</td>\n",
       "      <td>...</td>\n",
       "    </tr>\n",
       "    <tr>\n",
       "      <th>16221</th>\n",
       "      <td>Kosovo</td>\n",
       "      <td>XKX</td>\n",
       "      <td>Population, total</td>\n",
       "      <td>SP.POP.TOTL</td>\n",
       "      <td>2020</td>\n",
       "      <td>1775378.0</td>\n",
       "    </tr>\n",
       "    <tr>\n",
       "      <th>16222</th>\n",
       "      <td>Yemen, Rep.</td>\n",
       "      <td>YEM</td>\n",
       "      <td>Population, total</td>\n",
       "      <td>SP.POP.TOTL</td>\n",
       "      <td>2020</td>\n",
       "      <td>29825968.0</td>\n",
       "    </tr>\n",
       "    <tr>\n",
       "      <th>16223</th>\n",
       "      <td>South Africa</td>\n",
       "      <td>ZAF</td>\n",
       "      <td>Population, total</td>\n",
       "      <td>SP.POP.TOTL</td>\n",
       "      <td>2020</td>\n",
       "      <td>59308690.0</td>\n",
       "    </tr>\n",
       "    <tr>\n",
       "      <th>16224</th>\n",
       "      <td>Zambia</td>\n",
       "      <td>ZMB</td>\n",
       "      <td>Population, total</td>\n",
       "      <td>SP.POP.TOTL</td>\n",
       "      <td>2020</td>\n",
       "      <td>18383956.0</td>\n",
       "    </tr>\n",
       "    <tr>\n",
       "      <th>16225</th>\n",
       "      <td>Zimbabwe</td>\n",
       "      <td>ZWE</td>\n",
       "      <td>Population, total</td>\n",
       "      <td>SP.POP.TOTL</td>\n",
       "      <td>2020</td>\n",
       "      <td>14862927.0</td>\n",
       "    </tr>\n",
       "  </tbody>\n",
       "</table>\n",
       "<p>16226 rows × 6 columns</p>\n",
       "</div>"
      ],
      "text/plain": [
       "                      Country Name Country Code     Indicator Name  \\\n",
       "0                            Aruba          ABW  Population, total   \n",
       "1      Africa Eastern and Southern          AFE  Population, total   \n",
       "2                      Afghanistan          AFG  Population, total   \n",
       "3       Africa Western and Central          AFW  Population, total   \n",
       "4                           Angola          AGO  Population, total   \n",
       "...                            ...          ...                ...   \n",
       "16221                       Kosovo          XKX  Population, total   \n",
       "16222                  Yemen, Rep.          YEM  Population, total   \n",
       "16223                 South Africa          ZAF  Population, total   \n",
       "16224                       Zambia          ZMB  Population, total   \n",
       "16225                     Zimbabwe          ZWE  Population, total   \n",
       "\n",
       "      Indicator Code  Year   Population  \n",
       "0        SP.POP.TOTL  1960      54208.0  \n",
       "1        SP.POP.TOTL  1960  130836765.0  \n",
       "2        SP.POP.TOTL  1960    8996967.0  \n",
       "3        SP.POP.TOTL  1960   96396419.0  \n",
       "4        SP.POP.TOTL  1960    5454938.0  \n",
       "...              ...   ...          ...  \n",
       "16221    SP.POP.TOTL  2020    1775378.0  \n",
       "16222    SP.POP.TOTL  2020   29825968.0  \n",
       "16223    SP.POP.TOTL  2020   59308690.0  \n",
       "16224    SP.POP.TOTL  2020   18383956.0  \n",
       "16225    SP.POP.TOTL  2020   14862927.0  \n",
       "\n",
       "[16226 rows x 6 columns]"
      ]
     },
     "execution_count": 4,
     "metadata": {},
     "output_type": "execute_result"
    }
   ],
   "source": [
    "population_melted = pd.melt(population, id_vars = ['Country Name', 'Country Code', 'Indicator Name', 'Indicator Code'], var_name = 'Year', value_name = 'Population')\n",
    "population_melted"
   ]
  },
  {
   "cell_type": "code",
   "execution_count": 5,
   "id": "de51688c",
   "metadata": {
    "deletable": false,
    "editable": false
   },
   "outputs": [
    {
     "ename": "NameError",
     "evalue": "name 'grader' is not defined",
     "output_type": "error",
     "traceback": [
      "\u001b[0;31m---------------------------------------------------------------------------\u001b[0m",
      "\u001b[0;31mNameError\u001b[0m                                 Traceback (most recent call last)",
      "\u001b[0;32m/tmp/ipykernel_32718/1604948841.py\u001b[0m in \u001b[0;36m<module>\u001b[0;34m\u001b[0m\n\u001b[0;32m----> 1\u001b[0;31m \u001b[0mgrader\u001b[0m\u001b[0;34m.\u001b[0m\u001b[0mcheck\u001b[0m\u001b[0;34m(\u001b[0m\u001b[0;34m\"Question 1\"\u001b[0m\u001b[0;34m)\u001b[0m\u001b[0;34m\u001b[0m\u001b[0;34m\u001b[0m\u001b[0m\n\u001b[0m",
      "\u001b[0;31mNameError\u001b[0m: name 'grader' is not defined"
     ]
    }
   ],
   "source": [
    "grader.check(\"Question 1\")"
   ]
  },
  {
   "cell_type": "markdown",
   "id": "fe8c6c63",
   "metadata": {},
   "source": [
    "**Question 2**: Sort the dataframe population_melted by \"Country Name\" and \"Year\""
   ]
  },
  {
   "cell_type": "code",
   "execution_count": 6,
   "id": "c96ab372",
   "metadata": {},
   "outputs": [
    {
     "data": {
      "text/html": [
       "<div>\n",
       "<style scoped>\n",
       "    .dataframe tbody tr th:only-of-type {\n",
       "        vertical-align: middle;\n",
       "    }\n",
       "\n",
       "    .dataframe tbody tr th {\n",
       "        vertical-align: top;\n",
       "    }\n",
       "\n",
       "    .dataframe thead th {\n",
       "        text-align: right;\n",
       "    }\n",
       "</style>\n",
       "<table border=\"1\" class=\"dataframe\">\n",
       "  <thead>\n",
       "    <tr style=\"text-align: right;\">\n",
       "      <th></th>\n",
       "      <th>Country Name</th>\n",
       "      <th>Country Code</th>\n",
       "      <th>Indicator Name</th>\n",
       "      <th>Indicator Code</th>\n",
       "      <th>Year</th>\n",
       "      <th>Population</th>\n",
       "    </tr>\n",
       "  </thead>\n",
       "  <tbody>\n",
       "    <tr>\n",
       "      <th>2</th>\n",
       "      <td>Afghanistan</td>\n",
       "      <td>AFG</td>\n",
       "      <td>Population, total</td>\n",
       "      <td>SP.POP.TOTL</td>\n",
       "      <td>1960</td>\n",
       "      <td>8996967.0</td>\n",
       "    </tr>\n",
       "    <tr>\n",
       "      <th>268</th>\n",
       "      <td>Afghanistan</td>\n",
       "      <td>AFG</td>\n",
       "      <td>Population, total</td>\n",
       "      <td>SP.POP.TOTL</td>\n",
       "      <td>1961</td>\n",
       "      <td>9169406.0</td>\n",
       "    </tr>\n",
       "    <tr>\n",
       "      <th>534</th>\n",
       "      <td>Afghanistan</td>\n",
       "      <td>AFG</td>\n",
       "      <td>Population, total</td>\n",
       "      <td>SP.POP.TOTL</td>\n",
       "      <td>1962</td>\n",
       "      <td>9351442.0</td>\n",
       "    </tr>\n",
       "    <tr>\n",
       "      <th>800</th>\n",
       "      <td>Afghanistan</td>\n",
       "      <td>AFG</td>\n",
       "      <td>Population, total</td>\n",
       "      <td>SP.POP.TOTL</td>\n",
       "      <td>1963</td>\n",
       "      <td>9543200.0</td>\n",
       "    </tr>\n",
       "    <tr>\n",
       "      <th>1066</th>\n",
       "      <td>Afghanistan</td>\n",
       "      <td>AFG</td>\n",
       "      <td>Population, total</td>\n",
       "      <td>SP.POP.TOTL</td>\n",
       "      <td>1964</td>\n",
       "      <td>9744772.0</td>\n",
       "    </tr>\n",
       "    <tr>\n",
       "      <th>...</th>\n",
       "      <td>...</td>\n",
       "      <td>...</td>\n",
       "      <td>...</td>\n",
       "      <td>...</td>\n",
       "      <td>...</td>\n",
       "      <td>...</td>\n",
       "    </tr>\n",
       "    <tr>\n",
       "      <th>15161</th>\n",
       "      <td>Zimbabwe</td>\n",
       "      <td>ZWE</td>\n",
       "      <td>Population, total</td>\n",
       "      <td>SP.POP.TOTL</td>\n",
       "      <td>2016</td>\n",
       "      <td>14030338.0</td>\n",
       "    </tr>\n",
       "    <tr>\n",
       "      <th>15427</th>\n",
       "      <td>Zimbabwe</td>\n",
       "      <td>ZWE</td>\n",
       "      <td>Population, total</td>\n",
       "      <td>SP.POP.TOTL</td>\n",
       "      <td>2017</td>\n",
       "      <td>14236599.0</td>\n",
       "    </tr>\n",
       "    <tr>\n",
       "      <th>15693</th>\n",
       "      <td>Zimbabwe</td>\n",
       "      <td>ZWE</td>\n",
       "      <td>Population, total</td>\n",
       "      <td>SP.POP.TOTL</td>\n",
       "      <td>2018</td>\n",
       "      <td>14438812.0</td>\n",
       "    </tr>\n",
       "    <tr>\n",
       "      <th>15959</th>\n",
       "      <td>Zimbabwe</td>\n",
       "      <td>ZWE</td>\n",
       "      <td>Population, total</td>\n",
       "      <td>SP.POP.TOTL</td>\n",
       "      <td>2019</td>\n",
       "      <td>14645473.0</td>\n",
       "    </tr>\n",
       "    <tr>\n",
       "      <th>16225</th>\n",
       "      <td>Zimbabwe</td>\n",
       "      <td>ZWE</td>\n",
       "      <td>Population, total</td>\n",
       "      <td>SP.POP.TOTL</td>\n",
       "      <td>2020</td>\n",
       "      <td>14862927.0</td>\n",
       "    </tr>\n",
       "  </tbody>\n",
       "</table>\n",
       "<p>16226 rows × 6 columns</p>\n",
       "</div>"
      ],
      "text/plain": [
       "      Country Name Country Code     Indicator Name Indicator Code  Year  \\\n",
       "2      Afghanistan          AFG  Population, total    SP.POP.TOTL  1960   \n",
       "268    Afghanistan          AFG  Population, total    SP.POP.TOTL  1961   \n",
       "534    Afghanistan          AFG  Population, total    SP.POP.TOTL  1962   \n",
       "800    Afghanistan          AFG  Population, total    SP.POP.TOTL  1963   \n",
       "1066   Afghanistan          AFG  Population, total    SP.POP.TOTL  1964   \n",
       "...            ...          ...                ...            ...   ...   \n",
       "15161     Zimbabwe          ZWE  Population, total    SP.POP.TOTL  2016   \n",
       "15427     Zimbabwe          ZWE  Population, total    SP.POP.TOTL  2017   \n",
       "15693     Zimbabwe          ZWE  Population, total    SP.POP.TOTL  2018   \n",
       "15959     Zimbabwe          ZWE  Population, total    SP.POP.TOTL  2019   \n",
       "16225     Zimbabwe          ZWE  Population, total    SP.POP.TOTL  2020   \n",
       "\n",
       "       Population  \n",
       "2       8996967.0  \n",
       "268     9169406.0  \n",
       "534     9351442.0  \n",
       "800     9543200.0  \n",
       "1066    9744772.0  \n",
       "...           ...  \n",
       "15161  14030338.0  \n",
       "15427  14236599.0  \n",
       "15693  14438812.0  \n",
       "15959  14645473.0  \n",
       "16225  14862927.0  \n",
       "\n",
       "[16226 rows x 6 columns]"
      ]
     },
     "execution_count": 6,
     "metadata": {},
     "output_type": "execute_result"
    }
   ],
   "source": [
    "population_melted_sort = population_melted.sort_values(by=['Country Name', 'Year'])\n",
    "population_melted_sort"
   ]
  },
  {
   "cell_type": "markdown",
   "id": "b463f0c6",
   "metadata": {},
   "source": [
    "### B (3 points)\n",
    "We will use data about the average height in countries around the world. It comes from [Kaggle](https://www.kaggle.com/majyhain/height-of-male-and-female-by-country-2022)."
   ]
  },
  {
   "cell_type": "code",
   "execution_count": 7,
   "id": "1ac76155",
   "metadata": {},
   "outputs": [
    {
     "data": {
      "text/html": [
       "<div>\n",
       "<style scoped>\n",
       "    .dataframe tbody tr th:only-of-type {\n",
       "        vertical-align: middle;\n",
       "    }\n",
       "\n",
       "    .dataframe tbody tr th {\n",
       "        vertical-align: top;\n",
       "    }\n",
       "\n",
       "    .dataframe thead th {\n",
       "        text-align: right;\n",
       "    }\n",
       "</style>\n",
       "<table border=\"1\" class=\"dataframe\">\n",
       "  <thead>\n",
       "    <tr style=\"text-align: right;\">\n",
       "      <th></th>\n",
       "      <th>Rank</th>\n",
       "      <th>Country Name</th>\n",
       "      <th>Male Height in Cm</th>\n",
       "      <th>Female Height in Cm</th>\n",
       "      <th>Male Height in Ft</th>\n",
       "      <th>Female Height in Ft</th>\n",
       "    </tr>\n",
       "  </thead>\n",
       "  <tbody>\n",
       "    <tr>\n",
       "      <th>0</th>\n",
       "      <td>1</td>\n",
       "      <td>Netherlands</td>\n",
       "      <td>183.78</td>\n",
       "      <td>170.36</td>\n",
       "      <td>6.03</td>\n",
       "      <td>5.59</td>\n",
       "    </tr>\n",
       "    <tr>\n",
       "      <th>1</th>\n",
       "      <td>2</td>\n",
       "      <td>Montenegro</td>\n",
       "      <td>183.30</td>\n",
       "      <td>169.96</td>\n",
       "      <td>6.01</td>\n",
       "      <td>5.58</td>\n",
       "    </tr>\n",
       "    <tr>\n",
       "      <th>2</th>\n",
       "      <td>3</td>\n",
       "      <td>Estonia</td>\n",
       "      <td>182.79</td>\n",
       "      <td>168.66</td>\n",
       "      <td>6.00</td>\n",
       "      <td>5.53</td>\n",
       "    </tr>\n",
       "    <tr>\n",
       "      <th>3</th>\n",
       "      <td>4</td>\n",
       "      <td>Bosnia and Herzegovina</td>\n",
       "      <td>182.47</td>\n",
       "      <td>167.47</td>\n",
       "      <td>5.99</td>\n",
       "      <td>5.49</td>\n",
       "    </tr>\n",
       "    <tr>\n",
       "      <th>4</th>\n",
       "      <td>5</td>\n",
       "      <td>Iceland</td>\n",
       "      <td>182.10</td>\n",
       "      <td>168.91</td>\n",
       "      <td>5.97</td>\n",
       "      <td>5.54</td>\n",
       "    </tr>\n",
       "    <tr>\n",
       "      <th>...</th>\n",
       "      <td>...</td>\n",
       "      <td>...</td>\n",
       "      <td>...</td>\n",
       "      <td>...</td>\n",
       "      <td>...</td>\n",
       "      <td>...</td>\n",
       "    </tr>\n",
       "    <tr>\n",
       "      <th>193</th>\n",
       "      <td>194</td>\n",
       "      <td>Guatemala</td>\n",
       "      <td>164.36</td>\n",
       "      <td>150.91</td>\n",
       "      <td>5.39</td>\n",
       "      <td>4.95</td>\n",
       "    </tr>\n",
       "    <tr>\n",
       "      <th>194</th>\n",
       "      <td>195</td>\n",
       "      <td>Mozambique</td>\n",
       "      <td>164.30</td>\n",
       "      <td>155.42</td>\n",
       "      <td>5.39</td>\n",
       "      <td>5.10</td>\n",
       "    </tr>\n",
       "    <tr>\n",
       "      <th>195</th>\n",
       "      <td>196</td>\n",
       "      <td>Papua New Guinea</td>\n",
       "      <td>163.10</td>\n",
       "      <td>156.89</td>\n",
       "      <td>5.35</td>\n",
       "      <td>5.15</td>\n",
       "    </tr>\n",
       "    <tr>\n",
       "      <th>196</th>\n",
       "      <td>197</td>\n",
       "      <td>Solomon Islands</td>\n",
       "      <td>163.07</td>\n",
       "      <td>156.79</td>\n",
       "      <td>5.35</td>\n",
       "      <td>5.14</td>\n",
       "    </tr>\n",
       "    <tr>\n",
       "      <th>197</th>\n",
       "      <td>198</td>\n",
       "      <td>Laos</td>\n",
       "      <td>162.78</td>\n",
       "      <td>153.10</td>\n",
       "      <td>5.34</td>\n",
       "      <td>5.02</td>\n",
       "    </tr>\n",
       "  </tbody>\n",
       "</table>\n",
       "<p>198 rows × 6 columns</p>\n",
       "</div>"
      ],
      "text/plain": [
       "     Rank            Country Name  Male Height in Cm  Female Height in Cm  \\\n",
       "0       1             Netherlands             183.78               170.36   \n",
       "1       2              Montenegro             183.30               169.96   \n",
       "2       3                 Estonia             182.79               168.66   \n",
       "3       4  Bosnia and Herzegovina             182.47               167.47   \n",
       "4       5                 Iceland             182.10               168.91   \n",
       "..    ...                     ...                ...                  ...   \n",
       "193   194               Guatemala             164.36               150.91   \n",
       "194   195              Mozambique             164.30               155.42   \n",
       "195   196        Papua New Guinea             163.10               156.89   \n",
       "196   197         Solomon Islands             163.07               156.79   \n",
       "197   198                    Laos             162.78               153.10   \n",
       "\n",
       "     Male Height in Ft  Female Height in Ft  \n",
       "0                 6.03                 5.59  \n",
       "1                 6.01                 5.58  \n",
       "2                 6.00                 5.53  \n",
       "3                 5.99                 5.49  \n",
       "4                 5.97                 5.54  \n",
       "..                 ...                  ...  \n",
       "193               5.39                 4.95  \n",
       "194               5.39                 5.10  \n",
       "195               5.35                 5.15  \n",
       "196               5.35                 5.14  \n",
       "197               5.34                 5.02  \n",
       "\n",
       "[198 rows x 6 columns]"
      ]
     },
     "execution_count": 7,
     "metadata": {},
     "output_type": "execute_result"
    }
   ],
   "source": [
    "height = pd.read_csv(\"height_2022.csv\")\n",
    "height.head(-1)"
   ]
  },
  {
   "cell_type": "markdown",
   "id": "47ada30b",
   "metadata": {},
   "source": [
    "**Question 3**: Make a new dataframe \"height_tidy\" where you removed the columns \"Male Height in Ft\", \"Female Height in Ft\""
   ]
  },
  {
   "cell_type": "code",
   "execution_count": 8,
   "id": "56ff1fe9",
   "metadata": {},
   "outputs": [
    {
     "data": {
      "text/html": [
       "<div>\n",
       "<style scoped>\n",
       "    .dataframe tbody tr th:only-of-type {\n",
       "        vertical-align: middle;\n",
       "    }\n",
       "\n",
       "    .dataframe tbody tr th {\n",
       "        vertical-align: top;\n",
       "    }\n",
       "\n",
       "    .dataframe thead th {\n",
       "        text-align: right;\n",
       "    }\n",
       "</style>\n",
       "<table border=\"1\" class=\"dataframe\">\n",
       "  <thead>\n",
       "    <tr style=\"text-align: right;\">\n",
       "      <th></th>\n",
       "      <th>Rank</th>\n",
       "      <th>Country Name</th>\n",
       "      <th>Male Height in Cm</th>\n",
       "      <th>Female Height in Cm</th>\n",
       "    </tr>\n",
       "  </thead>\n",
       "  <tbody>\n",
       "    <tr>\n",
       "      <th>0</th>\n",
       "      <td>1</td>\n",
       "      <td>Netherlands</td>\n",
       "      <td>183.78</td>\n",
       "      <td>170.36</td>\n",
       "    </tr>\n",
       "    <tr>\n",
       "      <th>1</th>\n",
       "      <td>2</td>\n",
       "      <td>Montenegro</td>\n",
       "      <td>183.30</td>\n",
       "      <td>169.96</td>\n",
       "    </tr>\n",
       "    <tr>\n",
       "      <th>2</th>\n",
       "      <td>3</td>\n",
       "      <td>Estonia</td>\n",
       "      <td>182.79</td>\n",
       "      <td>168.66</td>\n",
       "    </tr>\n",
       "    <tr>\n",
       "      <th>3</th>\n",
       "      <td>4</td>\n",
       "      <td>Bosnia and Herzegovina</td>\n",
       "      <td>182.47</td>\n",
       "      <td>167.47</td>\n",
       "    </tr>\n",
       "    <tr>\n",
       "      <th>4</th>\n",
       "      <td>5</td>\n",
       "      <td>Iceland</td>\n",
       "      <td>182.10</td>\n",
       "      <td>168.91</td>\n",
       "    </tr>\n",
       "    <tr>\n",
       "      <th>...</th>\n",
       "      <td>...</td>\n",
       "      <td>...</td>\n",
       "      <td>...</td>\n",
       "      <td>...</td>\n",
       "    </tr>\n",
       "    <tr>\n",
       "      <th>194</th>\n",
       "      <td>195</td>\n",
       "      <td>Mozambique</td>\n",
       "      <td>164.30</td>\n",
       "      <td>155.42</td>\n",
       "    </tr>\n",
       "    <tr>\n",
       "      <th>195</th>\n",
       "      <td>196</td>\n",
       "      <td>Papua New Guinea</td>\n",
       "      <td>163.10</td>\n",
       "      <td>156.89</td>\n",
       "    </tr>\n",
       "    <tr>\n",
       "      <th>196</th>\n",
       "      <td>197</td>\n",
       "      <td>Solomon Islands</td>\n",
       "      <td>163.07</td>\n",
       "      <td>156.79</td>\n",
       "    </tr>\n",
       "    <tr>\n",
       "      <th>197</th>\n",
       "      <td>198</td>\n",
       "      <td>Laos</td>\n",
       "      <td>162.78</td>\n",
       "      <td>153.10</td>\n",
       "    </tr>\n",
       "    <tr>\n",
       "      <th>198</th>\n",
       "      <td>199</td>\n",
       "      <td>Timor-Leste</td>\n",
       "      <td>160.13</td>\n",
       "      <td>152.71</td>\n",
       "    </tr>\n",
       "  </tbody>\n",
       "</table>\n",
       "<p>199 rows × 4 columns</p>\n",
       "</div>"
      ],
      "text/plain": [
       "     Rank            Country Name  Male Height in Cm  Female Height in Cm\n",
       "0       1             Netherlands             183.78               170.36\n",
       "1       2              Montenegro             183.30               169.96\n",
       "2       3                 Estonia             182.79               168.66\n",
       "3       4  Bosnia and Herzegovina             182.47               167.47\n",
       "4       5                 Iceland             182.10               168.91\n",
       "..    ...                     ...                ...                  ...\n",
       "194   195              Mozambique             164.30               155.42\n",
       "195   196        Papua New Guinea             163.10               156.89\n",
       "196   197         Solomon Islands             163.07               156.79\n",
       "197   198                    Laos             162.78               153.10\n",
       "198   199             Timor-Leste             160.13               152.71\n",
       "\n",
       "[199 rows x 4 columns]"
      ]
     },
     "execution_count": 8,
     "metadata": {},
     "output_type": "execute_result"
    }
   ],
   "source": [
    "height_tidy = height.drop(['Male Height in Ft', 'Female Height in Ft'], axis = 1)\n",
    "height_tidy"
   ]
  },
  {
   "cell_type": "code",
   "execution_count": 9,
   "id": "7e3767a0",
   "metadata": {
    "deletable": false,
    "editable": false
   },
   "outputs": [
    {
     "ename": "NameError",
     "evalue": "name 'grader' is not defined",
     "output_type": "error",
     "traceback": [
      "\u001b[0;31m---------------------------------------------------------------------------\u001b[0m",
      "\u001b[0;31mNameError\u001b[0m                                 Traceback (most recent call last)",
      "\u001b[0;32m/tmp/ipykernel_32718/1283442292.py\u001b[0m in \u001b[0;36m<module>\u001b[0;34m\u001b[0m\n\u001b[0;32m----> 1\u001b[0;31m \u001b[0mgrader\u001b[0m\u001b[0;34m.\u001b[0m\u001b[0mcheck\u001b[0m\u001b[0;34m(\u001b[0m\u001b[0;34m\"Question 3\"\u001b[0m\u001b[0;34m)\u001b[0m\u001b[0;34m\u001b[0m\u001b[0;34m\u001b[0m\u001b[0m\n\u001b[0m",
      "\u001b[0;31mNameError\u001b[0m: name 'grader' is not defined"
     ]
    }
   ],
   "source": [
    "grader.check(\"Question 3\")"
   ]
  },
  {
   "cell_type": "code",
   "execution_count": 15,
   "id": "0274d1eb",
   "metadata": {},
   "outputs": [],
   "source": [
    "height_tidy.head()"
   ]
  },
  {
   "cell_type": "markdown",
   "id": "07382104",
   "metadata": {},
   "source": [
    "**Question 4**: Manipulate the dataframe \"height_tidy\" to be tidy. Currently, multiple variables are stored in one column.\n",
    "\n",
    "* Make a new dataframe \"height_melt\" that contains the same data as \"height_tidy\", but\n",
    "    * it has a new column \"Sex\" containing a single character \"M\" or \"F\" for \"male\"/\"female\"\n",
    "    * it has a new column \"Height in Cm\" containing data about the height in cm"
   ]
  },
  {
   "cell_type": "code",
   "execution_count": 10,
   "id": "d6a9c86a",
   "metadata": {
    "nbgrader": {
     "grade": false,
     "grade_id": "cell-b774d9d556851043",
     "locked": false,
     "schema_version": 3,
     "solution": true,
     "task": false
    }
   },
   "outputs": [
    {
     "data": {
      "text/html": [
       "<div>\n",
       "<style scoped>\n",
       "    .dataframe tbody tr th:only-of-type {\n",
       "        vertical-align: middle;\n",
       "    }\n",
       "\n",
       "    .dataframe tbody tr th {\n",
       "        vertical-align: top;\n",
       "    }\n",
       "\n",
       "    .dataframe thead th {\n",
       "        text-align: right;\n",
       "    }\n",
       "</style>\n",
       "<table border=\"1\" class=\"dataframe\">\n",
       "  <thead>\n",
       "    <tr style=\"text-align: right;\">\n",
       "      <th></th>\n",
       "      <th>Rank</th>\n",
       "      <th>Country Name</th>\n",
       "      <th>Sex</th>\n",
       "      <th>Height in Cm</th>\n",
       "    </tr>\n",
       "  </thead>\n",
       "  <tbody>\n",
       "    <tr>\n",
       "      <th>0</th>\n",
       "      <td>1</td>\n",
       "      <td>Netherlands</td>\n",
       "      <td>M</td>\n",
       "      <td>183.78</td>\n",
       "    </tr>\n",
       "    <tr>\n",
       "      <th>1</th>\n",
       "      <td>2</td>\n",
       "      <td>Montenegro</td>\n",
       "      <td>M</td>\n",
       "      <td>183.30</td>\n",
       "    </tr>\n",
       "    <tr>\n",
       "      <th>2</th>\n",
       "      <td>3</td>\n",
       "      <td>Estonia</td>\n",
       "      <td>M</td>\n",
       "      <td>182.79</td>\n",
       "    </tr>\n",
       "    <tr>\n",
       "      <th>3</th>\n",
       "      <td>4</td>\n",
       "      <td>Bosnia and Herzegovina</td>\n",
       "      <td>M</td>\n",
       "      <td>182.47</td>\n",
       "    </tr>\n",
       "    <tr>\n",
       "      <th>4</th>\n",
       "      <td>5</td>\n",
       "      <td>Iceland</td>\n",
       "      <td>M</td>\n",
       "      <td>182.10</td>\n",
       "    </tr>\n",
       "  </tbody>\n",
       "</table>\n",
       "</div>"
      ],
      "text/plain": [
       "   Rank            Country Name Sex  Height in Cm\n",
       "0     1             Netherlands   M        183.78\n",
       "1     2              Montenegro   M        183.30\n",
       "2     3                 Estonia   M        182.79\n",
       "3     4  Bosnia and Herzegovina   M        182.47\n",
       "4     5                 Iceland   M        182.10"
      ]
     },
     "execution_count": 10,
     "metadata": {},
     "output_type": "execute_result"
    }
   ],
   "source": [
    "height_melt = pd.melt(height_tidy, id_vars = ['Rank', 'Country Name'], var_name = 'Sex', value_name = 'Height in Cm')\n",
    "height_melt['Sex'] = height_melt['Sex'].replace({'Male Height in Cm': 'M', 'Female Height in Cm': 'F'})\n",
    "height_melt.head(5)"
   ]
  },
  {
   "cell_type": "code",
   "execution_count": 11,
   "id": "ad467d4f",
   "metadata": {
    "deletable": false,
    "editable": false
   },
   "outputs": [
    {
     "ename": "NameError",
     "evalue": "name 'grader' is not defined",
     "output_type": "error",
     "traceback": [
      "\u001b[0;31m---------------------------------------------------------------------------\u001b[0m",
      "\u001b[0;31mNameError\u001b[0m                                 Traceback (most recent call last)",
      "\u001b[0;32m/tmp/ipykernel_32718/824830621.py\u001b[0m in \u001b[0;36m<module>\u001b[0;34m\u001b[0m\n\u001b[0;32m----> 1\u001b[0;31m \u001b[0mgrader\u001b[0m\u001b[0;34m.\u001b[0m\u001b[0mcheck\u001b[0m\u001b[0;34m(\u001b[0m\u001b[0;34m\"Question 4\"\u001b[0m\u001b[0;34m)\u001b[0m\u001b[0;34m\u001b[0m\u001b[0;34m\u001b[0m\u001b[0m\n\u001b[0m",
      "\u001b[0;31mNameError\u001b[0m: name 'grader' is not defined"
     ]
    }
   ],
   "source": [
    "grader.check(\"Question 4\")"
   ]
  },
  {
   "cell_type": "markdown",
   "id": "159b4c05",
   "metadata": {},
   "source": [
    "### C (4 points)\n",
    "We will work with data about billboards in the 2000s (as in the lecture)."
   ]
  },
  {
   "cell_type": "code",
   "execution_count": 12,
   "id": "144ecae8",
   "metadata": {},
   "outputs": [
    {
     "data": {
      "text/html": [
       "<div>\n",
       "<style scoped>\n",
       "    .dataframe tbody tr th:only-of-type {\n",
       "        vertical-align: middle;\n",
       "    }\n",
       "\n",
       "    .dataframe tbody tr th {\n",
       "        vertical-align: top;\n",
       "    }\n",
       "\n",
       "    .dataframe thead th {\n",
       "        text-align: right;\n",
       "    }\n",
       "</style>\n",
       "<table border=\"1\" class=\"dataframe\">\n",
       "  <thead>\n",
       "    <tr style=\"text-align: right;\">\n",
       "      <th></th>\n",
       "      <th>year</th>\n",
       "      <th>artist.inverted</th>\n",
       "      <th>track</th>\n",
       "      <th>time</th>\n",
       "      <th>genre</th>\n",
       "      <th>date</th>\n",
       "      <th>date.peaked</th>\n",
       "      <th>week</th>\n",
       "      <th>rank</th>\n",
       "    </tr>\n",
       "  </thead>\n",
       "  <tbody>\n",
       "    <tr>\n",
       "      <th>0</th>\n",
       "      <td>2000</td>\n",
       "      <td>Nelly</td>\n",
       "      <td>(Hot S**t) Country Grammar</td>\n",
       "      <td>4:17</td>\n",
       "      <td>Rap</td>\n",
       "      <td>2000-04-29</td>\n",
       "      <td>2000-09-16</td>\n",
       "      <td>1</td>\n",
       "      <td>100.0</td>\n",
       "    </tr>\n",
       "    <tr>\n",
       "      <th>1</th>\n",
       "      <td>2000</td>\n",
       "      <td>Nelly</td>\n",
       "      <td>(Hot S**t) Country Grammar</td>\n",
       "      <td>4:17</td>\n",
       "      <td>Rap</td>\n",
       "      <td>2000-05-06</td>\n",
       "      <td>2000-09-16</td>\n",
       "      <td>2</td>\n",
       "      <td>99.0</td>\n",
       "    </tr>\n",
       "    <tr>\n",
       "      <th>2</th>\n",
       "      <td>2000</td>\n",
       "      <td>Nelly</td>\n",
       "      <td>(Hot S**t) Country Grammar</td>\n",
       "      <td>4:17</td>\n",
       "      <td>Rap</td>\n",
       "      <td>2000-05-13</td>\n",
       "      <td>2000-09-16</td>\n",
       "      <td>3</td>\n",
       "      <td>96.0</td>\n",
       "    </tr>\n",
       "    <tr>\n",
       "      <th>3</th>\n",
       "      <td>2000</td>\n",
       "      <td>Nelly</td>\n",
       "      <td>(Hot S**t) Country Grammar</td>\n",
       "      <td>4:17</td>\n",
       "      <td>Rap</td>\n",
       "      <td>2000-05-20</td>\n",
       "      <td>2000-09-16</td>\n",
       "      <td>4</td>\n",
       "      <td>76.0</td>\n",
       "    </tr>\n",
       "    <tr>\n",
       "      <th>4</th>\n",
       "      <td>2000</td>\n",
       "      <td>Nelly</td>\n",
       "      <td>(Hot S**t) Country Grammar</td>\n",
       "      <td>4:17</td>\n",
       "      <td>Rap</td>\n",
       "      <td>2000-05-27</td>\n",
       "      <td>2000-09-16</td>\n",
       "      <td>5</td>\n",
       "      <td>55.0</td>\n",
       "    </tr>\n",
       "  </tbody>\n",
       "</table>\n",
       "</div>"
      ],
      "text/plain": [
       "   year artist.inverted                       track  time genre        date  \\\n",
       "0  2000           Nelly  (Hot S**t) Country Grammar  4:17   Rap  2000-04-29   \n",
       "1  2000           Nelly  (Hot S**t) Country Grammar  4:17   Rap  2000-05-06   \n",
       "2  2000           Nelly  (Hot S**t) Country Grammar  4:17   Rap  2000-05-13   \n",
       "3  2000           Nelly  (Hot S**t) Country Grammar  4:17   Rap  2000-05-20   \n",
       "4  2000           Nelly  (Hot S**t) Country Grammar  4:17   Rap  2000-05-27   \n",
       "\n",
       "  date.peaked  week   rank  \n",
       "0  2000-09-16     1  100.0  \n",
       "1  2000-09-16     2   99.0  \n",
       "2  2000-09-16     3   96.0  \n",
       "3  2000-09-16     4   76.0  \n",
       "4  2000-09-16     5   55.0  "
      ]
     },
     "execution_count": 12,
     "metadata": {},
     "output_type": "execute_result"
    }
   ],
   "source": [
    "billboard = pd.read_csv(\"billboard_intermediate.csv\")\n",
    "billboard.head()"
   ]
  },
  {
   "cell_type": "markdown",
   "id": "1e956b47",
   "metadata": {},
   "source": [
    "**Question 5:**: Manipulate the dataframe \"billboard\" into two dataframes that each store one observational unit.\n",
    "\n",
    "* Make a new dataframe \"billboard_songs\" that contains information about the songs\n",
    "    * It should contain these columns from the \"billboard\" dataframe: \"artist.inverted\", \"track\", \"time\", \"genre\"\n",
    "* Make a new dataframe \"billboard_charts\" that contains information about the chart performance of the songs\n",
    "    * It should contain these columns from the \"billboard\" dataframe: \"date\", \"date.peaked\", \"week\", \"rank\"\n",
    "* Additionally, both dataframes should contain a column named \"track_id\" that gives each track a unique ID and links the information in the two dataframes.\n",
    "\n",
    "(Hint: Pandas has a function [.groupby().ngroup()](https://stackoverflow.com/questions/39665374/how-to-make-a-group-id-using-pandas) that could help you with the track id)"
   ]
  },
  {
   "cell_type": "code",
   "execution_count": 1,
   "id": "8565e2f0",
   "metadata": {
    "nbgrader": {
     "grade": false,
     "grade_id": "cell-262fb79928ed7861",
     "locked": false,
     "schema_version": 3,
     "solution": true,
     "task": false
    }
   },
   "outputs": [
    {
     "ename": "NameError",
     "evalue": "name 'billboard' is not defined",
     "output_type": "error",
     "traceback": [
      "\u001b[0;31m---------------------------------------------------------------------------\u001b[0m",
      "\u001b[0;31mNameError\u001b[0m                                 Traceback (most recent call last)",
      "\u001b[0;32m/var/folders/0x/2k84vm194h9_wq9_spdq0qsw0000gn/T/ipykernel_16711/1518943458.py\u001b[0m in \u001b[0;36m<module>\u001b[0;34m\u001b[0m\n\u001b[0;32m----> 1\u001b[0;31m \u001b[0mbillboard_songs\u001b[0m \u001b[0;34m=\u001b[0m \u001b[0mbillboard\u001b[0m\u001b[0;34m[\u001b[0m\u001b[0;34m[\u001b[0m\u001b[0;34m\"artist.inverted\"\u001b[0m\u001b[0;34m,\u001b[0m \u001b[0;34m\"track\"\u001b[0m\u001b[0;34m,\u001b[0m \u001b[0;34m\"time\"\u001b[0m\u001b[0;34m,\u001b[0m \u001b[0;34m\"genre\"\u001b[0m\u001b[0;34m]\u001b[0m\u001b[0;34m]\u001b[0m\u001b[0;34m.\u001b[0m\u001b[0mdrop_duplicates\u001b[0m\u001b[0;34m(\u001b[0m\u001b[0;34m)\u001b[0m\u001b[0;34m\u001b[0m\u001b[0;34m\u001b[0m\u001b[0m\n\u001b[0m\u001b[1;32m      2\u001b[0m \u001b[0mbillboard_songs\u001b[0m\u001b[0;34m[\u001b[0m\u001b[0;34m'track_id'\u001b[0m\u001b[0;34m]\u001b[0m \u001b[0;34m=\u001b[0m \u001b[0mbillboard_songs\u001b[0m\u001b[0;34m.\u001b[0m\u001b[0mgroupby\u001b[0m\u001b[0;34m(\u001b[0m\u001b[0;34m[\u001b[0m\u001b[0;34m'track'\u001b[0m\u001b[0;34m]\u001b[0m\u001b[0;34m)\u001b[0m\u001b[0;34m.\u001b[0m\u001b[0mngroup\u001b[0m\u001b[0;34m(\u001b[0m\u001b[0;34m)\u001b[0m \u001b[0;31m#create a new column that assigns a unique value to each unique track\u001b[0m\u001b[0;34m\u001b[0m\u001b[0;34m\u001b[0m\u001b[0m\n\u001b[1;32m      3\u001b[0m \u001b[0mbillboard_songs\u001b[0m\u001b[0;34m\u001b[0m\u001b[0;34m\u001b[0m\u001b[0m\n",
      "\u001b[0;31mNameError\u001b[0m: name 'billboard' is not defined"
     ]
    }
   ],
   "source": [
    "billboard_songs = billboard[[\"artist.inverted\", \"track\", \"time\", \"genre\"]].drop_duplicates()\n",
    "billboard_songs['track_id'] = billboard_songs.groupby(['track']).ngroup() #create a new column that assigns a unique value to each unique track\n",
    "billboard_songs"
   ]
  },
  {
   "cell_type": "code",
   "execution_count": 2,
   "id": "c2c3db15-84bb-490a-9ddf-5c362b768dd0",
   "metadata": {},
   "outputs": [
    {
     "ename": "NameError",
     "evalue": "name 'billboard' is not defined",
     "output_type": "error",
     "traceback": [
      "\u001b[0;31m---------------------------------------------------------------------------\u001b[0m",
      "\u001b[0;31mNameError\u001b[0m                                 Traceback (most recent call last)",
      "\u001b[0;32m/var/folders/0x/2k84vm194h9_wq9_spdq0qsw0000gn/T/ipykernel_16711/1169621841.py\u001b[0m in \u001b[0;36m<module>\u001b[0;34m\u001b[0m\n\u001b[0;32m----> 1\u001b[0;31m \u001b[0mbillboard_charts\u001b[0m \u001b[0;34m=\u001b[0m \u001b[0mbillboard\u001b[0m\u001b[0;34m[\u001b[0m\u001b[0;34m[\u001b[0m\u001b[0;34m\"date\"\u001b[0m\u001b[0;34m,\u001b[0m \u001b[0;34m\"date.peaked\"\u001b[0m\u001b[0;34m,\u001b[0m \u001b[0;34m\"week\"\u001b[0m\u001b[0;34m,\u001b[0m \u001b[0;34m\"rank\"\u001b[0m\u001b[0;34m]\u001b[0m\u001b[0;34m]\u001b[0m\u001b[0;34m\u001b[0m\u001b[0;34m\u001b[0m\u001b[0m\n\u001b[0m\u001b[1;32m      2\u001b[0m \u001b[0mbillboard_charts\u001b[0m\u001b[0;34m[\u001b[0m\u001b[0;34m'track_id'\u001b[0m\u001b[0;34m]\u001b[0m \u001b[0;34m=\u001b[0m \u001b[0mbillboard\u001b[0m\u001b[0;34m.\u001b[0m\u001b[0mgroupby\u001b[0m\u001b[0;34m(\u001b[0m\u001b[0;34m[\u001b[0m\u001b[0;34m'track'\u001b[0m\u001b[0;34m]\u001b[0m\u001b[0;34m)\u001b[0m\u001b[0;34m.\u001b[0m\u001b[0mngroup\u001b[0m\u001b[0;34m(\u001b[0m\u001b[0;34m)\u001b[0m\u001b[0;34m\u001b[0m\u001b[0;34m\u001b[0m\u001b[0m\n\u001b[1;32m      3\u001b[0m \u001b[0mbillboard_charts\u001b[0m\u001b[0;34m\u001b[0m\u001b[0;34m\u001b[0m\u001b[0m\n",
      "\u001b[0;31mNameError\u001b[0m: name 'billboard' is not defined"
     ]
    }
   ],
   "source": [
    "billboard_charts = billboard[[\"date\", \"date.peaked\", \"week\", \"rank\"]]\n",
    "billboard_charts['track_id'] = billboard.groupby(['track']).ngroup()\n",
    "billboard_charts"
   ]
  },
  {
   "cell_type": "code",
   "execution_count": 15,
   "id": "603aa7f8",
   "metadata": {
    "deletable": false,
    "editable": false
   },
   "outputs": [
    {
     "ename": "NameError",
     "evalue": "name 'grader' is not defined",
     "output_type": "error",
     "traceback": [
      "\u001b[0;31m---------------------------------------------------------------------------\u001b[0m",
      "\u001b[0;31mNameError\u001b[0m                                 Traceback (most recent call last)",
      "\u001b[0;32m/tmp/ipykernel_32718/803091321.py\u001b[0m in \u001b[0;36m<module>\u001b[0;34m\u001b[0m\n\u001b[0;32m----> 1\u001b[0;31m \u001b[0mgrader\u001b[0m\u001b[0;34m.\u001b[0m\u001b[0mcheck\u001b[0m\u001b[0;34m(\u001b[0m\u001b[0;34m\"Question 5\"\u001b[0m\u001b[0;34m)\u001b[0m\u001b[0;34m\u001b[0m\u001b[0;34m\u001b[0m\u001b[0m\n\u001b[0m",
      "\u001b[0;31mNameError\u001b[0m: name 'grader' is not defined"
     ]
    }
   ],
   "source": [
    "grader.check(\"Question 5\")"
   ]
  },
  {
   "cell_type": "markdown",
   "id": "4e1b7078",
   "metadata": {},
   "source": [
    "## 2 - EDA (6 points)"
   ]
  },
  {
   "cell_type": "markdown",
   "id": "097b6cf7",
   "metadata": {},
   "source": [
    "### A (2 points)\n",
    "Let's answer one more question about billboard hits in the 2000s. Use the billboard, billboard_songs or billboard_charts dataframes."
   ]
  },
  {
   "cell_type": "markdown",
   "id": "d564c37e",
   "metadata": {},
   "source": [
    "**Question 6**: What was the number one hit (rank = 1) on 2000/07/29? This question may seem random (and it is), but this is the 2000s! This is the day on which Jennifer Aniston married Brad Pitt. Did they play this song? Who knows.\n",
    "\n",
    "* Define one variable\n",
    "    * \"name_song\": Name of the song that was at rank 1 on the given date"
   ]
  },
  {
   "cell_type": "code",
   "execution_count": 17,
   "id": "99016627",
   "metadata": {
    "nbgrader": {
     "grade": false,
     "grade_id": "cell-75a4834772643fcd",
     "locked": false,
     "schema_version": 3,
     "solution": true,
     "task": false
    }
   },
   "outputs": [
    {
     "data": {
      "text/plain": [
       "10728    It's Gonna Be Me\n",
       "10729    It's Gonna Be Me\n",
       "Name: track, dtype: object"
      ]
     },
     "execution_count": 17,
     "metadata": {},
     "output_type": "execute_result"
    }
   ],
   "source": [
    "name_song = billboard.loc[(billboard['date.peaked'] == '2000-07-29') & (billboard['rank'] == 1), 'track']\n",
    "name_song"
   ]
  },
  {
   "cell_type": "markdown",
   "id": "baca4399",
   "metadata": {},
   "source": [
    "### 2b (4 points)\n",
    "Let's answer some questions about average heights. Use the height, height_tidy or height_melt dataframes."
   ]
  },
  {
   "cell_type": "markdown",
   "id": "bde0356f",
   "metadata": {},
   "source": [
    "**Question 7**: What's the country with the tallest men?\n",
    "\n",
    "* Define two variables\n",
    "    * \"country_tallest_men\": Name of the country of tallest men as a string\n",
    "    * \"height_tallest_men\": Average height of men in this country in cm\n",
    "\n",
    "(Hint: Pandas function max() can help here!)"
   ]
  },
  {
   "cell_type": "code",
   "execution_count": 18,
   "id": "b6af8a0a",
   "metadata": {
    "nbgrader": {
     "grade": false,
     "grade_id": "cell-4283fe78120f5a5d",
     "locked": false,
     "schema_version": 3,
     "solution": true,
     "task": false
    }
   },
   "outputs": [
    {
     "data": {
      "text/plain": [
       "'Netherlands'"
      ]
     },
     "execution_count": 18,
     "metadata": {},
     "output_type": "execute_result"
    }
   ],
   "source": [
    "max_height_index = height_tidy['Male Height in Cm'].idxmax()\n",
    "country_tallest_men = height_tidy.loc[max_height_index, 'Country Name']\n",
    "country_tallest_men"
   ]
  },
  {
   "cell_type": "markdown",
   "id": "db5894a9",
   "metadata": {},
   "source": [
    "**Question8**: In which country is the difference of average heights between men and women largest?\n",
    "\n",
    "* Define two variables\n",
    "    * \"country_largest_difference\": Name of the country where the average height difference between men and women is largest\n",
    "    * \"largest_difference\": Difference of average heights of men and women in this country in cm"
   ]
  },
  {
   "cell_type": "code",
   "execution_count": 19,
   "id": "ea6e9f95-8e2c-419c-bbb8-23ef02524ccf",
   "metadata": {},
   "outputs": [
    {
     "data": {
      "text/plain": [
       "183.78"
      ]
     },
     "execution_count": 19,
     "metadata": {},
     "output_type": "execute_result"
    }
   ],
   "source": [
    "height_tallest_men = max(height_tidy['Male Height in Cm'])\n",
    "height_tallest_men"
   ]
  },
  {
   "cell_type": "code",
   "execution_count": 20,
   "id": "c280a5a4",
   "metadata": {
    "nbgrader": {
     "grade": false,
     "grade_id": "cell-4e575ca703ccbd4e",
     "locked": false,
     "schema_version": 3,
     "solution": true,
     "task": false
    }
   },
   "outputs": [
    {
     "data": {
      "text/html": [
       "<div>\n",
       "<style scoped>\n",
       "    .dataframe tbody tr th:only-of-type {\n",
       "        vertical-align: middle;\n",
       "    }\n",
       "\n",
       "    .dataframe tbody tr th {\n",
       "        vertical-align: top;\n",
       "    }\n",
       "\n",
       "    .dataframe thead th {\n",
       "        text-align: right;\n",
       "    }\n",
       "</style>\n",
       "<table border=\"1\" class=\"dataframe\">\n",
       "  <thead>\n",
       "    <tr style=\"text-align: right;\">\n",
       "      <th></th>\n",
       "      <th>Rank</th>\n",
       "      <th>Country Name</th>\n",
       "      <th>Male Height in Cm</th>\n",
       "      <th>Female Height in Cm</th>\n",
       "      <th>difference height</th>\n",
       "    </tr>\n",
       "  </thead>\n",
       "  <tbody>\n",
       "    <tr>\n",
       "      <th>0</th>\n",
       "      <td>1</td>\n",
       "      <td>Netherlands</td>\n",
       "      <td>183.78</td>\n",
       "      <td>170.36</td>\n",
       "      <td>13.42</td>\n",
       "    </tr>\n",
       "    <tr>\n",
       "      <th>1</th>\n",
       "      <td>2</td>\n",
       "      <td>Montenegro</td>\n",
       "      <td>183.30</td>\n",
       "      <td>169.96</td>\n",
       "      <td>13.34</td>\n",
       "    </tr>\n",
       "    <tr>\n",
       "      <th>2</th>\n",
       "      <td>3</td>\n",
       "      <td>Estonia</td>\n",
       "      <td>182.79</td>\n",
       "      <td>168.66</td>\n",
       "      <td>14.13</td>\n",
       "    </tr>\n",
       "    <tr>\n",
       "      <th>3</th>\n",
       "      <td>4</td>\n",
       "      <td>Bosnia and Herzegovina</td>\n",
       "      <td>182.47</td>\n",
       "      <td>167.47</td>\n",
       "      <td>15.00</td>\n",
       "    </tr>\n",
       "    <tr>\n",
       "      <th>4</th>\n",
       "      <td>5</td>\n",
       "      <td>Iceland</td>\n",
       "      <td>182.10</td>\n",
       "      <td>168.91</td>\n",
       "      <td>13.19</td>\n",
       "    </tr>\n",
       "    <tr>\n",
       "      <th>...</th>\n",
       "      <td>...</td>\n",
       "      <td>...</td>\n",
       "      <td>...</td>\n",
       "      <td>...</td>\n",
       "      <td>...</td>\n",
       "    </tr>\n",
       "    <tr>\n",
       "      <th>194</th>\n",
       "      <td>195</td>\n",
       "      <td>Mozambique</td>\n",
       "      <td>164.30</td>\n",
       "      <td>155.42</td>\n",
       "      <td>8.88</td>\n",
       "    </tr>\n",
       "    <tr>\n",
       "      <th>195</th>\n",
       "      <td>196</td>\n",
       "      <td>Papua New Guinea</td>\n",
       "      <td>163.10</td>\n",
       "      <td>156.89</td>\n",
       "      <td>6.21</td>\n",
       "    </tr>\n",
       "    <tr>\n",
       "      <th>196</th>\n",
       "      <td>197</td>\n",
       "      <td>Solomon Islands</td>\n",
       "      <td>163.07</td>\n",
       "      <td>156.79</td>\n",
       "      <td>6.28</td>\n",
       "    </tr>\n",
       "    <tr>\n",
       "      <th>197</th>\n",
       "      <td>198</td>\n",
       "      <td>Laos</td>\n",
       "      <td>162.78</td>\n",
       "      <td>153.10</td>\n",
       "      <td>9.68</td>\n",
       "    </tr>\n",
       "    <tr>\n",
       "      <th>198</th>\n",
       "      <td>199</td>\n",
       "      <td>Timor-Leste</td>\n",
       "      <td>160.13</td>\n",
       "      <td>152.71</td>\n",
       "      <td>7.42</td>\n",
       "    </tr>\n",
       "  </tbody>\n",
       "</table>\n",
       "<p>199 rows × 5 columns</p>\n",
       "</div>"
      ],
      "text/plain": [
       "     Rank            Country Name  Male Height in Cm  Female Height in Cm  \\\n",
       "0       1             Netherlands             183.78               170.36   \n",
       "1       2              Montenegro             183.30               169.96   \n",
       "2       3                 Estonia             182.79               168.66   \n",
       "3       4  Bosnia and Herzegovina             182.47               167.47   \n",
       "4       5                 Iceland             182.10               168.91   \n",
       "..    ...                     ...                ...                  ...   \n",
       "194   195              Mozambique             164.30               155.42   \n",
       "195   196        Papua New Guinea             163.10               156.89   \n",
       "196   197         Solomon Islands             163.07               156.79   \n",
       "197   198                    Laos             162.78               153.10   \n",
       "198   199             Timor-Leste             160.13               152.71   \n",
       "\n",
       "     difference height  \n",
       "0                13.42  \n",
       "1                13.34  \n",
       "2                14.13  \n",
       "3                15.00  \n",
       "4                13.19  \n",
       "..                 ...  \n",
       "194               8.88  \n",
       "195               6.21  \n",
       "196               6.28  \n",
       "197               9.68  \n",
       "198               7.42  \n",
       "\n",
       "[199 rows x 5 columns]"
      ]
     },
     "execution_count": 20,
     "metadata": {},
     "output_type": "execute_result"
    }
   ],
   "source": [
    "height_tidy['difference height'] = height_tidy['Male Height in Cm'] - height_tidy['Female Height in Cm']\n",
    "height_tidy"
   ]
  },
  {
   "cell_type": "code",
   "execution_count": 21,
   "id": "5bc706b0-8265-4954-8b26-0371629d1719",
   "metadata": {},
   "outputs": [
    {
     "data": {
      "text/plain": [
       "'Puerto Rico'"
      ]
     },
     "execution_count": 21,
     "metadata": {},
     "output_type": "execute_result"
    }
   ],
   "source": [
    "max_height_difference_index = height_tidy['difference height'].idxmax()\n",
    "country_largest_difference = height_tidy.loc[max_height_difference_index, 'Country Name']\n",
    "country_largest_difference"
   ]
  },
  {
   "cell_type": "code",
   "execution_count": 22,
   "id": "0cf1cac7-8b6c-4267-88b7-eb360911c0f2",
   "metadata": {},
   "outputs": [
    {
     "data": {
      "text/plain": [
       "16.419999999999987"
      ]
     },
     "execution_count": 22,
     "metadata": {},
     "output_type": "execute_result"
    }
   ],
   "source": [
    "largest_difference = max(height_tidy['difference height'])\n",
    "largest_difference"
   ]
  },
  {
   "cell_type": "markdown",
   "id": "b62f9590",
   "metadata": {},
   "source": [
    "**Question 9**: What's (Pearson's) correlation value of average male and average female height?\n",
    "\n",
    "* Define a new variable \"corr_avg_heights\" that contains the correlation value of average male and female heights\n",
    "\n",
    "(Hint: Use Panda's function corr().)"
   ]
  },
  {
   "cell_type": "code",
   "execution_count": 23,
   "id": "1b4d27b8",
   "metadata": {
    "nbgrader": {
     "grade": false,
     "grade_id": "cell-b5438d2320f5d36d",
     "locked": false,
     "schema_version": 3,
     "solution": true,
     "task": false
    }
   },
   "outputs": [
    {
     "data": {
      "text/plain": [
       "0.9287870871295012"
      ]
     },
     "execution_count": 23,
     "metadata": {},
     "output_type": "execute_result"
    }
   ],
   "source": [
    "corr_avg_heights = height_tidy['Male Height in Cm'].corr(height_tidy['Female Height in Cm'])\n",
    "corr_avg_heights"
   ]
  },
  {
   "cell_type": "code",
   "execution_count": null,
   "id": "10167f1b",
   "metadata": {
    "deletable": false,
    "editable": false
   },
   "outputs": [],
   "source": [
    "grader.check(\"Question 9\")"
   ]
  },
  {
   "cell_type": "markdown",
   "id": "0bcf9745",
   "metadata": {
    "deletable": false,
    "editable": false
   },
   "source": [
    "---\n",
    "\n",
    "To double-check your work, the cell below will rerun all of the autograder tests."
   ]
  },
  {
   "cell_type": "code",
   "execution_count": null,
   "id": "de9e3543",
   "metadata": {
    "deletable": false,
    "editable": false
   },
   "outputs": [],
   "source": [
    "grader.check_all()"
   ]
  },
  {
   "cell_type": "markdown",
   "id": "d2fac99d",
   "metadata": {
    "deletable": false,
    "editable": false
   },
   "source": [
    "## Submission\n",
    "\n",
    "Make sure you have run all cells in your notebook in order before running the cell below, so that all images/graphs appear in the output. The cell below will generate a zip file for you to submit. **Please save before exporting!**"
   ]
  },
  {
   "cell_type": "code",
   "execution_count": null,
   "id": "bffc1df9",
   "metadata": {
    "deletable": false,
    "editable": false
   },
   "outputs": [],
   "source": [
    "# Save your notebook first, then run this cell to export your submission.\n",
    "grader.export()"
   ]
  },
  {
   "cell_type": "markdown",
   "id": "d405303f",
   "metadata": {},
   "source": [
    " "
   ]
  }
 ],
 "metadata": {
  "celltoolbar": "Create Assignment",
  "kernelspec": {
   "display_name": "Python 3 (ipykernel)",
   "language": "python",
   "name": "python3"
  },
  "language_info": {
   "codemirror_mode": {
    "name": "ipython",
    "version": 3
   },
   "file_extension": ".py",
   "mimetype": "text/x-python",
   "name": "python",
   "nbconvert_exporter": "python",
   "pygments_lexer": "ipython3",
   "version": "3.9.13"
  }
 },
 "nbformat": 4,
 "nbformat_minor": 5
}
